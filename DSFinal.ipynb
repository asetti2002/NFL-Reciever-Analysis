{
 "cells": [
  {
   "cell_type": "code",
   "execution_count": 1,
   "id": "6a7131df",
   "metadata": {},
   "outputs": [],
   "source": [
    "import numpy as np\n",
    "import pandas as pd\n",
    "import matplotlib.pyplot as plt\n",
    "import seaborn as sns\n",
    "from sklearn.metrics import confusion_matrix\n",
    "from sklearn.model_selection import train_test_split\n",
    "import sklearn.metrics as metrics\n",
    "from sklearn.preprocessing import LabelEncoder\n",
    "from sklearn.preprocessing import OneHotEncoder \n",
    "import statsmodels.api as sm\n",
    "from sklearn.linear_model import LogisticRegression\n",
    "from sklearn.tree import DecisionTreeClassifier\n",
    "from sklearn.ensemble import RandomForestClassifier\n",
    "from sklearn.metrics import r2_score"
   ]
  },
  {
   "cell_type": "code",
   "execution_count": 2,
   "id": "e15ad3a7",
   "metadata": {},
   "outputs": [],
   "source": [
    "# Classification Packages\n",
    "from sklearn.linear_model import LogisticRegression\n",
    "from sklearn.tree import DecisionTreeClassifier\n",
    "from sklearn.ensemble import RandomForestClassifier"
   ]
  },
  {
   "cell_type": "code",
   "execution_count": 3,
   "id": "ce98143f",
   "metadata": {},
   "outputs": [],
   "source": [
    "dfb = pd.read_csv('FantasyPros_Fantasy_Football_Advanced_Stats_Report_WR.csv')"
   ]
  },
  {
   "cell_type": "code",
   "execution_count": 4,
   "id": "88b26554",
   "metadata": {},
   "outputs": [
    {
     "data": {
      "text/html": [
       "<div>\n",
       "<style scoped>\n",
       "    .dataframe tbody tr th:only-of-type {\n",
       "        vertical-align: middle;\n",
       "    }\n",
       "\n",
       "    .dataframe tbody tr th {\n",
       "        vertical-align: top;\n",
       "    }\n",
       "\n",
       "    .dataframe thead th {\n",
       "        text-align: right;\n",
       "    }\n",
       "</style>\n",
       "<table border=\"1\" class=\"dataframe\">\n",
       "  <thead>\n",
       "    <tr style=\"text-align: right;\">\n",
       "      <th></th>\n",
       "      <th>Rank</th>\n",
       "      <th>Player</th>\n",
       "      <th>G</th>\n",
       "      <th>REC</th>\n",
       "      <th>YDS</th>\n",
       "      <th>Y/R</th>\n",
       "      <th>YBC</th>\n",
       "      <th>YBC/R</th>\n",
       "      <th>AIR</th>\n",
       "      <th>AIR/R</th>\n",
       "      <th>...</th>\n",
       "      <th>% TM</th>\n",
       "      <th>CATCHABLE</th>\n",
       "      <th>DROP</th>\n",
       "      <th>RZ TGT</th>\n",
       "      <th>10+ YDS</th>\n",
       "      <th>20+ YDS</th>\n",
       "      <th>30+ YDS</th>\n",
       "      <th>40+ YDS</th>\n",
       "      <th>50+ YDS</th>\n",
       "      <th>LNG</th>\n",
       "    </tr>\n",
       "  </thead>\n",
       "  <tbody>\n",
       "    <tr>\n",
       "      <th>0</th>\n",
       "      <td>1.0</td>\n",
       "      <td>Davante Adams (GB)</td>\n",
       "      <td>14.0</td>\n",
       "      <td>115.0</td>\n",
       "      <td>1,374</td>\n",
       "      <td>11.9</td>\n",
       "      <td>777</td>\n",
       "      <td>6.8</td>\n",
       "      <td>777</td>\n",
       "      <td>6.8</td>\n",
       "      <td>...</td>\n",
       "      <td>29.7%</td>\n",
       "      <td>116.0</td>\n",
       "      <td>1.0</td>\n",
       "      <td>28.0</td>\n",
       "      <td>49.0</td>\n",
       "      <td>18.0</td>\n",
       "      <td>10.0</td>\n",
       "      <td>5.0</td>\n",
       "      <td>1.0</td>\n",
       "      <td>56.0</td>\n",
       "    </tr>\n",
       "    <tr>\n",
       "      <th>1</th>\n",
       "      <td>2.0</td>\n",
       "      <td>Tyreek Hill (KC)</td>\n",
       "      <td>15.0</td>\n",
       "      <td>87.0</td>\n",
       "      <td>1,276</td>\n",
       "      <td>14.7</td>\n",
       "      <td>842</td>\n",
       "      <td>9.7</td>\n",
       "      <td>842</td>\n",
       "      <td>9.7</td>\n",
       "      <td>...</td>\n",
       "      <td>22.1%</td>\n",
       "      <td>94.0</td>\n",
       "      <td>5.0</td>\n",
       "      <td>17.0</td>\n",
       "      <td>49.0</td>\n",
       "      <td>20.0</td>\n",
       "      <td>11.0</td>\n",
       "      <td>5.0</td>\n",
       "      <td>2.0</td>\n",
       "      <td>75.0</td>\n",
       "    </tr>\n",
       "    <tr>\n",
       "      <th>2</th>\n",
       "      <td>3.0</td>\n",
       "      <td>Stefon Diggs (BUF)</td>\n",
       "      <td>16.0</td>\n",
       "      <td>127.0</td>\n",
       "      <td>1,535</td>\n",
       "      <td>12.1</td>\n",
       "      <td>1,071</td>\n",
       "      <td>8.4</td>\n",
       "      <td>1,071</td>\n",
       "      <td>8.4</td>\n",
       "      <td>...</td>\n",
       "      <td>29.0%</td>\n",
       "      <td>137.0</td>\n",
       "      <td>8.0</td>\n",
       "      <td>16.0</td>\n",
       "      <td>62.0</td>\n",
       "      <td>20.0</td>\n",
       "      <td>5.0</td>\n",
       "      <td>5.0</td>\n",
       "      <td>2.0</td>\n",
       "      <td>55.0</td>\n",
       "    </tr>\n",
       "    <tr>\n",
       "      <th>3</th>\n",
       "      <td>4.0</td>\n",
       "      <td>Calvin Ridley (ATL)</td>\n",
       "      <td>15.0</td>\n",
       "      <td>90.0</td>\n",
       "      <td>1,374</td>\n",
       "      <td>15.3</td>\n",
       "      <td>1,099</td>\n",
       "      <td>12.2</td>\n",
       "      <td>1,099</td>\n",
       "      <td>12.2</td>\n",
       "      <td>...</td>\n",
       "      <td>23.6%</td>\n",
       "      <td>96.0</td>\n",
       "      <td>6.0</td>\n",
       "      <td>20.0</td>\n",
       "      <td>58.0</td>\n",
       "      <td>23.0</td>\n",
       "      <td>8.0</td>\n",
       "      <td>3.0</td>\n",
       "      <td>2.0</td>\n",
       "      <td>63.0</td>\n",
       "    </tr>\n",
       "    <tr>\n",
       "      <th>4</th>\n",
       "      <td>5.0</td>\n",
       "      <td>D.K. Metcalf (SEA)</td>\n",
       "      <td>16.0</td>\n",
       "      <td>83.0</td>\n",
       "      <td>1,303</td>\n",
       "      <td>15.7</td>\n",
       "      <td>940</td>\n",
       "      <td>11.3</td>\n",
       "      <td>940</td>\n",
       "      <td>11.3</td>\n",
       "      <td>...</td>\n",
       "      <td>24.0%</td>\n",
       "      <td>92.0</td>\n",
       "      <td>8.0</td>\n",
       "      <td>16.0</td>\n",
       "      <td>50.0</td>\n",
       "      <td>17.0</td>\n",
       "      <td>12.0</td>\n",
       "      <td>5.0</td>\n",
       "      <td>3.0</td>\n",
       "      <td>62.0</td>\n",
       "    </tr>\n",
       "  </tbody>\n",
       "</table>\n",
       "<p>5 rows × 26 columns</p>\n",
       "</div>"
      ],
      "text/plain": [
       "   Rank               Player     G    REC    YDS   Y/R    YBC  YBC/R    AIR  \\\n",
       "0   1.0   Davante Adams (GB)  14.0  115.0  1,374  11.9    777    6.8    777   \n",
       "1   2.0     Tyreek Hill (KC)  15.0   87.0  1,276  14.7    842    9.7    842   \n",
       "2   3.0   Stefon Diggs (BUF)  16.0  127.0  1,535  12.1  1,071    8.4  1,071   \n",
       "3   4.0  Calvin Ridley (ATL)  15.0   90.0  1,374  15.3  1,099   12.2  1,099   \n",
       "4   5.0   D.K. Metcalf (SEA)  16.0   83.0  1,303  15.7    940   11.3    940   \n",
       "\n",
       "   AIR/R  ...   % TM  CATCHABLE  DROP  RZ TGT  10+ YDS  20+ YDS 30+ YDS  \\\n",
       "0    6.8  ...  29.7%      116.0   1.0    28.0     49.0     18.0    10.0   \n",
       "1    9.7  ...  22.1%       94.0   5.0    17.0     49.0     20.0    11.0   \n",
       "2    8.4  ...  29.0%      137.0   8.0    16.0     62.0     20.0     5.0   \n",
       "3   12.2  ...  23.6%       96.0   6.0    20.0     58.0     23.0     8.0   \n",
       "4   11.3  ...  24.0%       92.0   8.0    16.0     50.0     17.0    12.0   \n",
       "\n",
       "   40+ YDS  50+ YDS   LNG  \n",
       "0      5.0      1.0  56.0  \n",
       "1      5.0      2.0  75.0  \n",
       "2      5.0      2.0  55.0  \n",
       "3      3.0      2.0  63.0  \n",
       "4      5.0      3.0  62.0  \n",
       "\n",
       "[5 rows x 26 columns]"
      ]
     },
     "execution_count": 4,
     "metadata": {},
     "output_type": "execute_result"
    }
   ],
   "source": [
    "dfb.head()"
   ]
  },
  {
   "cell_type": "markdown",
   "id": "8ea57d68",
   "metadata": {},
   "source": [
    "because we are looking at advanced statistics we must get rid of some of the more basic statistics. Specifically receptions, games, targets, and yards."
   ]
  },
  {
   "cell_type": "code",
   "execution_count": 5,
   "id": "4b540c0b",
   "metadata": {},
   "outputs": [
    {
     "data": {
      "text/plain": [
       "Index(['Rank', 'Player', 'G', 'REC', 'YDS', 'Y/R', 'YBC', 'YBC/R', 'AIR',\n",
       "       'AIR/R', 'YAC', 'YAC/R', 'YACON', 'YACON/R', 'BRKTKL', 'TGT', '% TM',\n",
       "       'CATCHABLE', 'DROP', 'RZ TGT', '10+ YDS', '20+ YDS', '30+ YDS',\n",
       "       '40+ YDS', '50+ YDS', 'LNG'],\n",
       "      dtype='object')"
      ]
     },
     "metadata": {},
     "output_type": "display_data"
    }
   ],
   "source": [
    "display(dfb.columns)"
   ]
  },
  {
   "cell_type": "code",
   "execution_count": 6,
   "id": "be1beb20",
   "metadata": {},
   "outputs": [],
   "source": [
    "dfb = dfb[['Rank', 'Player', 'Y/R', 'YBC', 'YBC/R', 'AIR',\n",
    "       'AIR/R', 'YAC', 'YAC/R', 'YACON', 'YACON/R', 'BRKTKL', '% TM',\n",
    "       'CATCHABLE', 'DROP', 'RZ TGT', '10+ YDS', '20+ YDS', '30+ YDS',\n",
    "       '40+ YDS', '50+ YDS', 'LNG']]"
   ]
  },
  {
   "cell_type": "code",
   "execution_count": 7,
   "id": "b089b292",
   "metadata": {},
   "outputs": [],
   "source": [
    "dfb['% TM'] = dfb['% TM'].str.rstrip('%').astype('float') / 100.0"
   ]
  },
  {
   "cell_type": "code",
   "execution_count": 8,
   "id": "1cd9e09b",
   "metadata": {
    "scrolled": false
   },
   "outputs": [
    {
     "data": {
      "text/plain": [
       "10+ YDS     -0.920567\n",
       "% TM        -0.917860\n",
       "CATCHABLE   -0.915263\n",
       "20+ YDS     -0.879548\n",
       "YAC         -0.861921\n",
       "RZ TGT      -0.853427\n",
       "Name: Rank, dtype: float64"
      ]
     },
     "execution_count": 8,
     "metadata": {},
     "output_type": "execute_result"
    }
   ],
   "source": [
    "corr = dfb.corr()\n",
    "corr['Rank'].nsmallest(6)"
   ]
  },
  {
   "cell_type": "markdown",
   "id": "2a1fcf42",
   "metadata": {},
   "source": [
    "Because the better the rank the smaller the number, we must look at the smallest rather than largest correlation."
   ]
  },
  {
   "cell_type": "code",
   "execution_count": 9,
   "id": "03a5c973",
   "metadata": {},
   "outputs": [
    {
     "data": {
      "text/plain": [
       "Rank         0\n",
       "Player       0\n",
       "Y/R          0\n",
       "YBC          0\n",
       "YBC/R        0\n",
       "AIR          0\n",
       "AIR/R        0\n",
       "YAC          0\n",
       "YAC/R        0\n",
       "YACON        0\n",
       "YACON/R      0\n",
       "BRKTKL       0\n",
       "% TM         0\n",
       "CATCHABLE    0\n",
       "DROP         0\n",
       "RZ TGT       0\n",
       "10+ YDS      0\n",
       "20+ YDS      0\n",
       "30+ YDS      0\n",
       "40+ YDS      0\n",
       "50+ YDS      0\n",
       "LNG          0\n",
       "dtype: int64"
      ]
     },
     "execution_count": 9,
     "metadata": {},
     "output_type": "execute_result"
    }
   ],
   "source": [
    "df = dfb.dropna()\n",
    "df.isna().sum()"
   ]
  },
  {
   "cell_type": "markdown",
   "id": "ec37bb4f",
   "metadata": {},
   "source": [
    "I need to create a variable where I can test my accuracy so I will create a new column named top 50 and use different regression models to test the accuracy of the variables I have chosen."
   ]
  },
  {
   "cell_type": "code",
   "execution_count": 16,
   "id": "583c641d",
   "metadata": {
    "scrolled": true
   },
   "outputs": [
    {
     "name": "stderr",
     "output_type": "stream",
     "text": [
      "<ipython-input-16-1d8042931f34>:1: SettingWithCopyWarning: \n",
      "A value is trying to be set on a copy of a slice from a DataFrame.\n",
      "Try using .loc[row_indexer,col_indexer] = value instead\n",
      "\n",
      "See the caveats in the documentation: https://pandas.pydata.org/pandas-docs/stable/user_guide/indexing.html#returning-a-view-versus-a-copy\n",
      "  df['Top_50'] = np.where(df['Rank'] < 51, 1, 0)\n"
     ]
    }
   ],
   "source": [
    "df['Top_50'] = np.where(df['Rank'] < 51, 1, 0)"
   ]
  },
  {
   "cell_type": "code",
   "execution_count": 17,
   "id": "146dbc1a",
   "metadata": {},
   "outputs": [
    {
     "data": {
      "text/html": [
       "<div>\n",
       "<style scoped>\n",
       "    .dataframe tbody tr th:only-of-type {\n",
       "        vertical-align: middle;\n",
       "    }\n",
       "\n",
       "    .dataframe tbody tr th {\n",
       "        vertical-align: top;\n",
       "    }\n",
       "\n",
       "    .dataframe thead th {\n",
       "        text-align: right;\n",
       "    }\n",
       "</style>\n",
       "<table border=\"1\" class=\"dataframe\">\n",
       "  <thead>\n",
       "    <tr style=\"text-align: right;\">\n",
       "      <th></th>\n",
       "      <th>Rank</th>\n",
       "      <th>Player</th>\n",
       "      <th>Y/R</th>\n",
       "      <th>YBC</th>\n",
       "      <th>YBC/R</th>\n",
       "      <th>AIR</th>\n",
       "      <th>AIR/R</th>\n",
       "      <th>YAC</th>\n",
       "      <th>YAC/R</th>\n",
       "      <th>YACON</th>\n",
       "      <th>...</th>\n",
       "      <th>CATCHABLE</th>\n",
       "      <th>DROP</th>\n",
       "      <th>RZ TGT</th>\n",
       "      <th>10+ YDS</th>\n",
       "      <th>20+ YDS</th>\n",
       "      <th>30+ YDS</th>\n",
       "      <th>40+ YDS</th>\n",
       "      <th>50+ YDS</th>\n",
       "      <th>LNG</th>\n",
       "      <th>Top_50</th>\n",
       "    </tr>\n",
       "  </thead>\n",
       "  <tbody>\n",
       "    <tr>\n",
       "      <th>0</th>\n",
       "      <td>1.0</td>\n",
       "      <td>Davante Adams (GB)</td>\n",
       "      <td>11.9</td>\n",
       "      <td>777</td>\n",
       "      <td>6.8</td>\n",
       "      <td>777</td>\n",
       "      <td>6.8</td>\n",
       "      <td>597.0</td>\n",
       "      <td>5.2</td>\n",
       "      <td>152.0</td>\n",
       "      <td>...</td>\n",
       "      <td>116.0</td>\n",
       "      <td>1.0</td>\n",
       "      <td>28.0</td>\n",
       "      <td>49.0</td>\n",
       "      <td>18.0</td>\n",
       "      <td>10.0</td>\n",
       "      <td>5.0</td>\n",
       "      <td>1.0</td>\n",
       "      <td>56.0</td>\n",
       "      <td>1</td>\n",
       "    </tr>\n",
       "    <tr>\n",
       "      <th>1</th>\n",
       "      <td>2.0</td>\n",
       "      <td>Tyreek Hill (KC)</td>\n",
       "      <td>14.7</td>\n",
       "      <td>842</td>\n",
       "      <td>9.7</td>\n",
       "      <td>842</td>\n",
       "      <td>9.7</td>\n",
       "      <td>434.0</td>\n",
       "      <td>5.0</td>\n",
       "      <td>118.0</td>\n",
       "      <td>...</td>\n",
       "      <td>94.0</td>\n",
       "      <td>5.0</td>\n",
       "      <td>17.0</td>\n",
       "      <td>49.0</td>\n",
       "      <td>20.0</td>\n",
       "      <td>11.0</td>\n",
       "      <td>5.0</td>\n",
       "      <td>2.0</td>\n",
       "      <td>75.0</td>\n",
       "      <td>1</td>\n",
       "    </tr>\n",
       "  </tbody>\n",
       "</table>\n",
       "<p>2 rows × 23 columns</p>\n",
       "</div>"
      ],
      "text/plain": [
       "   Rank              Player   Y/R  YBC  YBC/R  AIR  AIR/R    YAC  YAC/R  \\\n",
       "0   1.0  Davante Adams (GB)  11.9  777    6.8  777    6.8  597.0    5.2   \n",
       "1   2.0    Tyreek Hill (KC)  14.7  842    9.7  842    9.7  434.0    5.0   \n",
       "\n",
       "   YACON  ...  CATCHABLE  DROP  RZ TGT  10+ YDS  20+ YDS  30+ YDS  40+ YDS  \\\n",
       "0  152.0  ...      116.0   1.0    28.0     49.0     18.0     10.0      5.0   \n",
       "1  118.0  ...       94.0   5.0    17.0     49.0     20.0     11.0      5.0   \n",
       "\n",
       "   50+ YDS   LNG  Top_50  \n",
       "0      1.0  56.0       1  \n",
       "1      2.0  75.0       1  \n",
       "\n",
       "[2 rows x 23 columns]"
      ]
     },
     "execution_count": 17,
     "metadata": {},
     "output_type": "execute_result"
    }
   ],
   "source": [
    "df.head(2)"
   ]
  },
  {
   "cell_type": "code",
   "execution_count": 18,
   "id": "021e76cf",
   "metadata": {
    "scrolled": true
   },
   "outputs": [
    {
     "data": {
      "text/html": [
       "<div>\n",
       "<style scoped>\n",
       "    .dataframe tbody tr th:only-of-type {\n",
       "        vertical-align: middle;\n",
       "    }\n",
       "\n",
       "    .dataframe tbody tr th {\n",
       "        vertical-align: top;\n",
       "    }\n",
       "\n",
       "    .dataframe thead th {\n",
       "        text-align: right;\n",
       "    }\n",
       "</style>\n",
       "<table border=\"1\" class=\"dataframe\">\n",
       "  <thead>\n",
       "    <tr style=\"text-align: right;\">\n",
       "      <th></th>\n",
       "      <th>Rank</th>\n",
       "      <th>Player</th>\n",
       "      <th>Y/R</th>\n",
       "      <th>YBC</th>\n",
       "      <th>YBC/R</th>\n",
       "      <th>AIR</th>\n",
       "      <th>AIR/R</th>\n",
       "      <th>YAC</th>\n",
       "      <th>YAC/R</th>\n",
       "      <th>YACON</th>\n",
       "      <th>...</th>\n",
       "      <th>CATCHABLE</th>\n",
       "      <th>DROP</th>\n",
       "      <th>RZ TGT</th>\n",
       "      <th>10+ YDS</th>\n",
       "      <th>20+ YDS</th>\n",
       "      <th>30+ YDS</th>\n",
       "      <th>40+ YDS</th>\n",
       "      <th>50+ YDS</th>\n",
       "      <th>LNG</th>\n",
       "      <th>Top_50</th>\n",
       "    </tr>\n",
       "  </thead>\n",
       "  <tbody>\n",
       "    <tr>\n",
       "      <th>197</th>\n",
       "      <td>198.0</td>\n",
       "      <td>Tavon Austin (JAC)</td>\n",
       "      <td>4.0</td>\n",
       "      <td>-22</td>\n",
       "      <td>-4.4</td>\n",
       "      <td>-22</td>\n",
       "      <td>-4.4</td>\n",
       "      <td>42.0</td>\n",
       "      <td>8.4</td>\n",
       "      <td>0.0</td>\n",
       "      <td>...</td>\n",
       "      <td>5.0</td>\n",
       "      <td>0.0</td>\n",
       "      <td>0.0</td>\n",
       "      <td>0.0</td>\n",
       "      <td>0.0</td>\n",
       "      <td>0.0</td>\n",
       "      <td>0.0</td>\n",
       "      <td>0.0</td>\n",
       "      <td>7.0</td>\n",
       "      <td>0</td>\n",
       "    </tr>\n",
       "    <tr>\n",
       "      <th>198</th>\n",
       "      <td>199.0</td>\n",
       "      <td>Andre Roberts (LAC)</td>\n",
       "      <td>8.5</td>\n",
       "      <td>29</td>\n",
       "      <td>7.3</td>\n",
       "      <td>29</td>\n",
       "      <td>7.3</td>\n",
       "      <td>5.0</td>\n",
       "      <td>1.3</td>\n",
       "      <td>1.0</td>\n",
       "      <td>...</td>\n",
       "      <td>5.0</td>\n",
       "      <td>1.0</td>\n",
       "      <td>1.0</td>\n",
       "      <td>2.0</td>\n",
       "      <td>0.0</td>\n",
       "      <td>0.0</td>\n",
       "      <td>0.0</td>\n",
       "      <td>0.0</td>\n",
       "      <td>16.0</td>\n",
       "      <td>0</td>\n",
       "    </tr>\n",
       "  </tbody>\n",
       "</table>\n",
       "<p>2 rows × 23 columns</p>\n",
       "</div>"
      ],
      "text/plain": [
       "      Rank               Player  Y/R  YBC  YBC/R  AIR  AIR/R   YAC  YAC/R  \\\n",
       "197  198.0   Tavon Austin (JAC)  4.0  -22   -4.4  -22   -4.4  42.0    8.4   \n",
       "198  199.0  Andre Roberts (LAC)  8.5   29    7.3   29    7.3   5.0    1.3   \n",
       "\n",
       "     YACON  ...  CATCHABLE  DROP  RZ TGT  10+ YDS  20+ YDS  30+ YDS  40+ YDS  \\\n",
       "197    0.0  ...        5.0   0.0     0.0      0.0      0.0      0.0      0.0   \n",
       "198    1.0  ...        5.0   1.0     1.0      2.0      0.0      0.0      0.0   \n",
       "\n",
       "     50+ YDS   LNG  Top_50  \n",
       "197      0.0   7.0       0  \n",
       "198      0.0  16.0       0  \n",
       "\n",
       "[2 rows x 23 columns]"
      ]
     },
     "execution_count": 18,
     "metadata": {},
     "output_type": "execute_result"
    }
   ],
   "source": [
    "df.tail(2)"
   ]
  },
  {
   "cell_type": "markdown",
   "id": "b974ed33",
   "metadata": {},
   "source": [
    "I created the variable top 50 so I can test my accuracy, as you can see from the data frames head and tail, the column Top 50 is yes when the the player has a rank above 51."
   ]
  },
  {
   "cell_type": "code",
   "execution_count": 19,
   "id": "610c859a",
   "metadata": {},
   "outputs": [],
   "source": [
    "x = df[['10+ YDS', '% TM', 'CATCHABLE', '20+ YDS', 'YAC', 'RZ TGT']]\n",
    "y = df[['Top_50']]"
   ]
  },
  {
   "cell_type": "code",
   "execution_count": 20,
   "id": "64b0a371",
   "metadata": {},
   "outputs": [],
   "source": [
    "xtrain, xtest, ytrain, ytest = train_test_split(x, y, test_size = 0.20, random_state = 5)"
   ]
  },
  {
   "cell_type": "code",
   "execution_count": 21,
   "id": "62be075a",
   "metadata": {},
   "outputs": [
    {
     "name": "stdout",
     "output_type": "stream",
     "text": [
      "Warning: Maximum number of iterations has been exceeded.\n",
      "         Current function value: 0.000002\n",
      "         Iterations: 35\n",
      "\n",
      "Logistic Regression Accuracies:\n",
      "-------------------------------\n",
      "\n",
      "LG Training Accuracy:\n",
      "1.0\n",
      "\n",
      "LG Testing Accuracy:\n",
      "0.875\n"
     ]
    },
    {
     "name": "stderr",
     "output_type": "stream",
     "text": [
      "/Users/gauthamsethupathy/opt/anaconda3/lib/python3.8/site-packages/statsmodels/discrete/discrete_model.py:1810: RuntimeWarning: overflow encountered in exp\n",
      "  return 1/(1+np.exp(-X))\n",
      "/Users/gauthamsethupathy/opt/anaconda3/lib/python3.8/site-packages/statsmodels/base/model.py:566: ConvergenceWarning: Maximum Likelihood optimization failed to converge. Check mle_retvals\n",
      "  warnings.warn(\"Maximum Likelihood optimization failed to \"\n"
     ]
    }
   ],
   "source": [
    "lr = sm.Logit(ytrain, sm.add_constant(xtrain)).fit()\n",
    "lr_train = round(lr.predict(sm.add_constant(xtrain)))\n",
    "lr_test = round(lr.predict(sm.add_constant(xtest)))\n",
    "print()\n",
    "print('Logistic Regression Accuracies:')\n",
    "print('-------------------------------')\n",
    "print()\n",
    "print(\"LG Training Accuracy:\")\n",
    "print(metrics.accuracy_score(ytrain, lr_train))\n",
    "print()\n",
    "print(\"LG Testing Accuracy:\")\n",
    "print(metrics.accuracy_score(ytest, lr_test))"
   ]
  },
  {
   "cell_type": "code",
   "execution_count": 22,
   "id": "c36dff9f",
   "metadata": {},
   "outputs": [
    {
     "name": "stdout",
     "output_type": "stream",
     "text": [
      "Decision Tree Accuracies:\n",
      "-------------------------\n",
      "\n",
      "DT Training Accuracy:\n",
      "1.0\n",
      "\n",
      "DT Testing Accuracy:\n",
      "0.875\n"
     ]
    }
   ],
   "source": [
    "dt = DecisionTreeClassifier()\n",
    "dt.fit(xtrain, ytrain)\n",
    "dt_train = dt.predict(xtrain)\n",
    "dt_test = dt.predict(xtest)\n",
    "print('Decision Tree Accuracies:')\n",
    "print('-------------------------')\n",
    "print()\n",
    "print(\"DT Training Accuracy:\")\n",
    "print(metrics.accuracy_score(ytrain, dt_train))\n",
    "print()\n",
    "print(\"DT Testing Accuracy:\")\n",
    "print(metrics.accuracy_score(ytest, dt_test))"
   ]
  },
  {
   "cell_type": "code",
   "execution_count": 23,
   "id": "004656d4",
   "metadata": {},
   "outputs": [
    {
     "name": "stdout",
     "output_type": "stream",
     "text": [
      "Random Forest Accuracies:\n",
      "-------------------------\n",
      "\n",
      "RF Training Accuracy:\n",
      "1.0\n",
      "\n",
      "RF Testing Accuracy:\n",
      "0.9\n"
     ]
    },
    {
     "name": "stderr",
     "output_type": "stream",
     "text": [
      "<ipython-input-23-db19af4443ca>:2: DataConversionWarning: A column-vector y was passed when a 1d array was expected. Please change the shape of y to (n_samples,), for example using ravel().\n",
      "  rf.fit(xtrain, ytrain)\n"
     ]
    }
   ],
   "source": [
    "rf = RandomForestClassifier(n_estimators = 20, random_state = 20)\n",
    "rf.fit(xtrain, ytrain)\n",
    "rf_train = rf.predict(xtrain)\n",
    "rf_test = rf.predict(xtest)\n",
    "print('Random Forest Accuracies:')\n",
    "print('-------------------------')\n",
    "print()\n",
    "print(\"RF Training Accuracy:\")\n",
    "print(metrics.accuracy_score(ytrain, rf_train))\n",
    "print()\n",
    "print(\"RF Testing Accuracy:\")\n",
    "print(metrics.accuracy_score(ytest, rf_test))"
   ]
  },
  {
   "cell_type": "markdown",
   "id": "bdd6d802",
   "metadata": {},
   "source": [
    "Our random forest model seems to have the best accuracy for the testing data, so that will be the model that we use. I will print a confusion matrix for the training and testing for our random forest model to get a better understanding of the model."
   ]
  },
  {
   "cell_type": "code",
   "execution_count": 24,
   "id": "ba33203b",
   "metadata": {},
   "outputs": [
    {
     "data": {
      "text/plain": [
       "<AxesSubplot:title={'center':'Training Data Confusion Matric Plot'}>"
      ]
     },
     "execution_count": 24,
     "metadata": {},
     "output_type": "execute_result"
    },
    {
     "data": {
      "image/png": "[encoded data removed]",
      "text/plain": [
       "<Figure size 432x288 with 2 Axes>"
      ]
     },
     "metadata": {
      "needs_background": "light"
     },
     "output_type": "display_data"
    }
   ],
   "source": [
    "c_train = confusion_matrix(ytrain, rf_train)\n",
    "c_test = confusion_matrix(ytest, rf_test)\n",
    "\n",
    "plt.title(\"Training Data Confusion Matric Plot\")\n",
    "sns.heatmap(c_train, annot = True, fmt = '1', cmap = \"Reds\")"
   ]
  },
  {
   "cell_type": "code",
   "execution_count": 25,
   "id": "86ea334e",
   "metadata": {},
   "outputs": [
    {
     "data": {
      "text/plain": [
       "<AxesSubplot:title={'center':'Testing Data Confusion Matric Plot'}>"
      ]
     },
     "execution_count": 25,
     "metadata": {},
     "output_type": "execute_result"
    },
    {
     "data": {
      "image/png": "[encoded data removed]",
      "text/plain": [
       "<Figure size 432x288 with 2 Axes>"
      ]
     },
     "metadata": {
      "needs_background": "light"
     },
     "output_type": "display_data"
    }
   ],
   "source": [
    "plt.title(\"Testing Data Confusion Matric Plot\")\n",
    "sns.heatmap(c_test, annot = True, fmt = '1', cmap = \"Blues\")"
   ]
  },
  {
   "cell_type": "markdown",
   "id": "679c10cc",
   "metadata": {},
   "source": [
    "As the confusion matrix shows us for the testing data, we only had 4 false positives and 0 false negatives. 90% is a very effective number for using predictions, and focusing on these specific variables and using a random forest model proves to be an effective use of prediction."
   ]
  },
  {
   "cell_type": "markdown",
   "id": "f3fbf126",
   "metadata": {},
   "source": [
    "I will also test for top 25 for reasons spoken on in the report."
   ]
  },
  {
   "cell_type": "code",
   "execution_count": 26,
   "id": "f156c167",
   "metadata": {},
   "outputs": [
    {
     "name": "stderr",
     "output_type": "stream",
     "text": [
      "<ipython-input-26-92ef48a2ae7c>:1: SettingWithCopyWarning: \n",
      "A value is trying to be set on a copy of a slice from a DataFrame.\n",
      "Try using .loc[row_indexer,col_indexer] = value instead\n",
      "\n",
      "See the caveats in the documentation: https://pandas.pydata.org/pandas-docs/stable/user_guide/indexing.html#returning-a-view-versus-a-copy\n",
      "  df['Top_25'] = np.where(df['Rank'] < 26, 1, 0)\n"
     ]
    }
   ],
   "source": [
    "df['Top_25'] = np.where(df['Rank'] < 26, 1, 0)"
   ]
  },
  {
   "cell_type": "code",
   "execution_count": 27,
   "id": "9220c23d",
   "metadata": {},
   "outputs": [],
   "source": [
    "Y = df[[\"Top_25\"]]"
   ]
  },
  {
   "cell_type": "code",
   "execution_count": 28,
   "id": "f3154d89",
   "metadata": {},
   "outputs": [],
   "source": [
    "xtrn, xtst, ytrn, ytst = train_test_split(x, Y, test_size = 0.20, random_state = 5)"
   ]
  },
  {
   "cell_type": "code",
   "execution_count": 32,
   "id": "4bea0f55",
   "metadata": {},
   "outputs": [
    {
     "name": "stdout",
     "output_type": "stream",
     "text": [
      "Random Forest Accuracies(Top 25):\n",
      "-------------------------\n",
      "\n",
      "RF Training Accuracy:\n",
      "1.0\n",
      "\n",
      "RF Testing Accuracy:\n",
      "0.9\n"
     ]
    },
    {
     "name": "stderr",
     "output_type": "stream",
     "text": [
      "<ipython-input-32-19f3acfecfb7>:2: DataConversionWarning: A column-vector y was passed when a 1d array was expected. Please change the shape of y to (n_samples,), for example using ravel().\n",
      "  rf2.fit(xtrn, ytrn)\n"
     ]
    }
   ],
   "source": [
    "rf2 = RandomForestClassifier(n_estimators = 20, random_state = 20)\n",
    "rf2.fit(xtrn, ytrn)\n",
    "rf2_train = rf2.predict(xtrn)\n",
    "rf2_test = rf2.predict(xtst)\n",
    "print('Random Forest Accuracies(Top 25):')\n",
    "print('-------------------------')\n",
    "print()\n",
    "print(\"RF Training Accuracy:\")\n",
    "print(metrics.accuracy_score(ytrn, rf2_train))\n",
    "print()\n",
    "print(\"RF Testing Accuracy:\")\n",
    "print(metrics.accuracy_score(ytst, rf2_test))"
   ]
  },
  {
   "cell_type": "code",
   "execution_count": 30,
   "id": "3e5111dc",
   "metadata": {},
   "outputs": [
    {
     "data": {
      "text/plain": [
       "<AxesSubplot:title={'center':'Training Data Confusion Matric Plot(Top 25)'}>"
      ]
     },
     "execution_count": 30,
     "metadata": {},
     "output_type": "execute_result"
    },
    {
     "data": {
      "image/png": "[encoded data removed]",
      "text/plain": [
       "<Figure size 432x288 with 2 Axes>"
      ]
     },
     "metadata": {
      "needs_background": "light"
     },
     "output_type": "display_data"
    }
   ],
   "source": [
    "c_train2 = confusion_matrix(ytrn, rf2_train)\n",
    "c_test2 = confusion_matrix(ytst, rf2_test)\n",
    "\n",
    "plt.title(\"Training Data Confusion Matric Plot(Top 25)\")\n",
    "sns.heatmap(c_train2, annot = True, fmt = '1', cmap = \"Reds\")"
   ]
  },
  {
   "cell_type": "code",
   "execution_count": 31,
   "id": "ff4e6ebf",
   "metadata": {},
   "outputs": [
    {
     "data": {
      "text/plain": [
       "<AxesSubplot:title={'center':'Testing Data Confusion Matric Plot(Top 25)'}>"
      ]
     },
     "execution_count": 31,
     "metadata": {},
     "output_type": "execute_result"
    },
    {
     "data": {
      "image/png": "[encoded data removed]",
      "text/plain": [
       "<Figure size 432x288 with 2 Axes>"
      ]
     },
     "metadata": {
      "needs_background": "light"
     },
     "output_type": "display_data"
    }
   ],
   "source": [
    "plt.title(\"Testing Data Confusion Matric Plot(Top 25)\")\n",
    "sns.heatmap(c_test2, annot = True, fmt = '1', cmap = \"Blues\")"
   ]
  },
  {
   "cell_type": "code",
   "execution_count": null,
   "id": "e9e7296e",
   "metadata": {},
   "outputs": [],
   "source": []
  }
 ],
 "metadata": {
  "kernelspec": {
   "display_name": "Python 3",
   "language": "python",
   "name": "python3"
  },
  "language_info": {
   "codemirror_mode": {
    "name": "ipython",
    "version": 3
   },
   "file_extension": ".py",
   "mimetype": "text/x-python",
   "name": "python",
   "nbconvert_exporter": "python",
   "pygments_lexer": "ipython3",
   "version": "3.8.8"
  }
 },
 "nbformat": 4,
 "nbformat_minor": 5
}
